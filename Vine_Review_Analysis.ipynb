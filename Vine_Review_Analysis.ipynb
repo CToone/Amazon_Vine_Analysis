{
 "cells": [
  {
   "cell_type": "code",
   "execution_count": 3,
   "id": "a5091124",
   "metadata": {},
   "outputs": [],
   "source": [
    "import pandas as pd\n"
   ]
  },
  {
   "cell_type": "code",
   "execution_count": 4,
   "id": "1b0f54d9",
   "metadata": {},
   "outputs": [
    {
     "data": {
      "text/html": [
       "<div>\n",
       "<style scoped>\n",
       "    .dataframe tbody tr th:only-of-type {\n",
       "        vertical-align: middle;\n",
       "    }\n",
       "\n",
       "    .dataframe tbody tr th {\n",
       "        vertical-align: top;\n",
       "    }\n",
       "\n",
       "    .dataframe thead th {\n",
       "        text-align: right;\n",
       "    }\n",
       "</style>\n",
       "<table border=\"1\" class=\"dataframe\">\n",
       "  <thead>\n",
       "    <tr style=\"text-align: right;\">\n",
       "      <th></th>\n",
       "      <th>review_id</th>\n",
       "      <th>star_rating</th>\n",
       "      <th>helpful_votes</th>\n",
       "      <th>total_votes</th>\n",
       "      <th>vine</th>\n",
       "      <th>verified_purchase</th>\n",
       "    </tr>\n",
       "  </thead>\n",
       "  <tbody>\n",
       "    <tr>\n",
       "      <th>0</th>\n",
       "      <td>RQ58W7SMO911M</td>\n",
       "      <td>4.0</td>\n",
       "      <td>2.0</td>\n",
       "      <td>3.0</td>\n",
       "      <td>N</td>\n",
       "      <td>N</td>\n",
       "    </tr>\n",
       "    <tr>\n",
       "      <th>1</th>\n",
       "      <td>RF6IUKMGL8SF</td>\n",
       "      <td>3.0</td>\n",
       "      <td>5.0</td>\n",
       "      <td>5.0</td>\n",
       "      <td>N</td>\n",
       "      <td>N</td>\n",
       "    </tr>\n",
       "    <tr>\n",
       "      <th>2</th>\n",
       "      <td>R1DOSHH6AI622S</td>\n",
       "      <td>4.0</td>\n",
       "      <td>1.0</td>\n",
       "      <td>22.0</td>\n",
       "      <td>N</td>\n",
       "      <td>N</td>\n",
       "    </tr>\n",
       "    <tr>\n",
       "      <th>3</th>\n",
       "      <td>RATOTLA3OF70O</td>\n",
       "      <td>5.0</td>\n",
       "      <td>2.0</td>\n",
       "      <td>2.0</td>\n",
       "      <td>N</td>\n",
       "      <td>N</td>\n",
       "    </tr>\n",
       "    <tr>\n",
       "      <th>4</th>\n",
       "      <td>R1TNWRKIVHVYOV</td>\n",
       "      <td>4.0</td>\n",
       "      <td>0.0</td>\n",
       "      <td>2.0</td>\n",
       "      <td>N</td>\n",
       "      <td>N</td>\n",
       "    </tr>\n",
       "  </tbody>\n",
       "</table>\n",
       "</div>"
      ],
      "text/plain": [
       "        review_id  star_rating  helpful_votes  total_votes vine  \\\n",
       "0   RQ58W7SMO911M          4.0            2.0          3.0    N   \n",
       "1    RF6IUKMGL8SF          3.0            5.0          5.0    N   \n",
       "2  R1DOSHH6AI622S          4.0            1.0         22.0    N   \n",
       "3   RATOTLA3OF70O          5.0            2.0          2.0    N   \n",
       "4  R1TNWRKIVHVYOV          4.0            0.0          2.0    N   \n",
       "\n",
       "  verified_purchase  \n",
       "0                 N  \n",
       "1                 N  \n",
       "2                 N  \n",
       "3                 N  \n",
       "4                 N  "
      ]
     },
     "execution_count": 4,
     "metadata": {},
     "output_type": "execute_result"
    }
   ],
   "source": [
    "vine_df=pd.read_csv(\"vine_table.csv\")\n",
    "vine_df.head()"
   ]
  },
  {
   "cell_type": "markdown",
   "id": "1d55dbe1",
   "metadata": {},
   "source": [
    "-Filter the data and create a new DataFrame or table to retrieve all the rows where the total_votes count is equal to or greater than 20 to pick reviews that are more likely to be helpful and to avoid having division by zero errors later on.\n",
    "\n",
    "-Filter the new DataFrame or table created in Step 1 and create a new DataFrame or table to retrieve all the rows where the number of helpful_votes divided by total_votes is equal to or greater than 50%.\n",
    "\n",
    "-If you use the SQL option below, you’ll need to cast your columns as floats using WHERE CAST(helpful_votes AS FLOAT)/CAST(total_votes AS FLOAT) >=0.5.\n",
    "\n",
    "-Filter the DataFrame or table created in Step 2, and create a new DataFrame or table that retrieves all the rows where a review was written as part of the Vine program (paid), vine == 'Y'.\n",
    "\n",
    "-Repeat Step 3, but this time retrieve all the rows where the review was not part of the Vine program (unpaid), vine == 'N'.\n",
    "\n",
    "-Determine the total number of reviews, the number of 5-star reviews, and the percentage of 5-star reviews for the two types of review (paid vs unpaid).\n",
    "\n",
    "#NOTE"
   ]
  },
  {
   "cell_type": "code",
   "execution_count": 5,
   "id": "4c772096",
   "metadata": {},
   "outputs": [
    {
     "data": {
      "text/plain": [
       "review_id             object\n",
       "star_rating          float64\n",
       "helpful_votes        float64\n",
       "total_votes          float64\n",
       "vine                  object\n",
       "verified_purchase     object\n",
       "dtype: object"
      ]
     },
     "execution_count": 5,
     "metadata": {},
     "output_type": "execute_result"
    }
   ],
   "source": [
    "vine_df.dtypes"
   ]
  },
  {
   "cell_type": "code",
   "execution_count": 6,
   "id": "fd15adb1",
   "metadata": {},
   "outputs": [],
   "source": [
    "vine_df2 = vine_df [vine_df[\"total_votes\"]>= 20].copy()"
   ]
  },
  {
   "cell_type": "code",
   "execution_count": 7,
   "id": "e175dae4",
   "metadata": {},
   "outputs": [],
   "source": [
    "vine_df3= vine_df2 [vine_df2[\"helpful_votes\"]/vine_df2[\"total_votes\"]>= 0.5].copy()"
   ]
  },
  {
   "cell_type": "code",
   "execution_count": 8,
   "id": "4ca34a19",
   "metadata": {},
   "outputs": [],
   "source": [
    "vine_df_y= vine_df3 [vine_df3[\"vine\"]== \"Y\"].copy()"
   ]
  },
  {
   "cell_type": "code",
   "execution_count": 9,
   "id": "2262d03f",
   "metadata": {},
   "outputs": [],
   "source": [
    "vine_df_n= vine_df3 [vine_df3[\"vine\"]== \"N\"].copy()"
   ]
  },
  {
   "cell_type": "markdown",
   "id": "2ec0dddb",
   "metadata": {},
   "source": [
    "# Five Star paid reviews "
   ]
  },
  {
   "cell_type": "code",
   "execution_count": 11,
   "id": "4644c56b",
   "metadata": {},
   "outputs": [
    {
     "data": {
      "text/plain": [
       "0"
      ]
     },
     "execution_count": 11,
     "metadata": {},
     "output_type": "execute_result"
    }
   ],
   "source": [
    "paid_reviews = vine_df_y.shape[0]\n",
    "paid_reviews"
   ]
  },
  {
   "cell_type": "code",
   "execution_count": 12,
   "id": "13574226",
   "metadata": {},
   "outputs": [
    {
     "data": {
      "text/plain": [
       "403807"
      ]
     },
     "execution_count": 12,
     "metadata": {},
     "output_type": "execute_result"
    }
   ],
   "source": [
    "non_paid_reviews = vine_df_n.shape[0]\n",
    "non_paid_reviews"
   ]
  },
  {
   "cell_type": "code",
   "execution_count": 13,
   "id": "89b46e05",
   "metadata": {},
   "outputs": [
    {
     "data": {
      "text/plain": [
       "242889"
      ]
     },
     "execution_count": 13,
     "metadata": {},
     "output_type": "execute_result"
    }
   ],
   "source": [
    "non_paid_five_star_reviews = vine_df_n[vine_df_n[\"star_rating\"]==5].copy()\n",
    "non_paid_five_star_reviews = non_paid_five_star_reviews.shape[0]\n",
    "non_paid_five_star_reviews\n"
   ]
  },
  {
   "cell_type": "code",
   "execution_count": 14,
   "id": "9a8d1cda",
   "metadata": {},
   "outputs": [
    {
     "data": {
      "text/plain": [
       "60.14977452099642"
      ]
     },
     "execution_count": 14,
     "metadata": {},
     "output_type": "execute_result"
    }
   ],
   "source": [
    "non_paid_percentage = non_paid_five_star_reviews / non_paid_reviews *100\n",
    "non_paid_percentage"
   ]
  },
  {
   "cell_type": "code",
   "execution_count": null,
   "id": "86ef0a00",
   "metadata": {},
   "outputs": [],
   "source": []
  }
 ],
 "metadata": {
  "kernelspec": {
   "display_name": "Python 3 (ipykernel)",
   "language": "python",
   "name": "python3"
  },
  "language_info": {
   "codemirror_mode": {
    "name": "ipython",
    "version": 3
   },
   "file_extension": ".py",
   "mimetype": "text/x-python",
   "name": "python",
   "nbconvert_exporter": "python",
   "pygments_lexer": "ipython3",
   "version": "3.9.13"
  }
 },
 "nbformat": 4,
 "nbformat_minor": 5
}
